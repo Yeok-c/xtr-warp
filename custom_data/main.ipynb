{
 "cells": [
  {
   "cell_type": "code",
   "execution_count": 9,
   "metadata": {},
   "outputs": [
    {
     "name": "stdout",
     "output_type": "stream",
     "text": [
      "\n",
      "\n",
      "[Feb 08, 22:51:50] #> Note: Output directory /home/yeok/warp/indexes/my_list_of_facts.nbits=4 already exists\n",
      "\n",
      "\n",
      "#> Starting...\n"
     ]
    },
    {
     "name": "stderr",
     "output_type": "stream",
     "text": [
      "Traceback (most recent call last):\n",
      "  File \"<string>\", line 1, in <module>\n",
      "  File \"/home/yeok/miniconda3/envs/warp/lib/python3.8/multiprocessing/spawn.py\", line 116, in spawn_main\n",
      "    exitcode = _main(fd, parent_sentinel)\n",
      "  File \"/home/yeok/miniconda3/envs/warp/lib/python3.8/multiprocessing/spawn.py\", line 126, in _main\n",
      "    self = reduction.pickle.load(from_parent)\n",
      "  File \"/home/yeok/projects/xtr-warp/custom_data/../warp/__init__.py\", line 1, in <module>\n",
      "    from .indexer import Indexer\n",
      "  File \"/home/yeok/projects/xtr-warp/custom_data/../warp/indexer.py\", line 12, in <module>\n",
      "    from warp.indexing.collection_indexer import encode\n",
      "  File \"/home/yeok/projects/xtr-warp/custom_data/../warp/indexing/collection_indexer.py\", line 20, in <module>\n",
      "    from warp.modeling.checkpoint import Checkpoint\n",
      "  File \"/home/yeok/projects/xtr-warp/custom_data/../warp/modeling/checkpoint.py\", line 7, in <module>\n",
      "    from warp.modeling.colbert import ColBERT\n",
      "  File \"/home/yeok/projects/xtr-warp/custom_data/../warp/modeling/colbert.py\", line 2, in <module>\n",
      "    from warp.search.strided_tensor import StridedTensor\n",
      "  File \"/home/yeok/projects/xtr-warp/custom_data/../warp/search/strided_tensor.py\", line 11, in <module>\n",
      "    from torch.utils.cpp_extension import load\n",
      "  File \"/home/yeok/miniconda3/envs/warp/lib/python3.8/site-packages/torch/utils/cpp_extension.py\", line 8, in <module>\n",
      "    import setuptools\n",
      "  File \"/home/yeok/miniconda3/envs/warp/lib/python3.8/site-packages/setuptools/__init__.py\", line 27, in <module>\n",
      "    from .dist import Distribution\n",
      "  File \"/home/yeok/miniconda3/envs/warp/lib/python3.8/site-packages/setuptools/dist.py\", line 24, in <module>\n",
      "    from packaging.markers import InvalidMarker, Marker\n",
      "  File \"/home/yeok/miniconda3/envs/warp/lib/python3.8/site-packages/packaging/markers.py\", line 13, in <module>\n",
      "    from ._parser import MarkerAtom, MarkerList, Op, Value, Variable\n",
      "  File \"/home/yeok/miniconda3/envs/warp/lib/python3.8/site-packages/packaging/_parser.py\", line 12, in <module>\n",
      "    from ._tokenizer import DEFAULT_RULES, Tokenizer\n",
      "  File \"/home/yeok/miniconda3/envs/warp/lib/python3.8/site-packages/packaging/_tokenizer.py\", line 76, in <module>\n",
      "    \"SPECIFIER\": re.compile(\n",
      "  File \"/home/yeok/miniconda3/envs/warp/lib/python3.8/re.py\", line 252, in compile\n",
      "    return _compile(pattern, flags)\n",
      "  File \"/home/yeok/miniconda3/envs/warp/lib/python3.8/re.py\", line 304, in _compile\n",
      "    p = sre_compile.compile(pattern, flags)\n",
      "  File \"/home/yeok/miniconda3/envs/warp/lib/python3.8/sre_compile.py\", line 764, in compile\n",
      "    p = sre_parse.parse(p, flags)\n",
      "  File \"/home/yeok/miniconda3/envs/warp/lib/python3.8/sre_parse.py\", line 962, in parse\n",
      "    raise source.error(\"unbalanced parenthesis\")\n",
      "re.error: unbalanced parenthesis at position 4086 (line 94, column 9)\n"
     ]
    },
    {
     "ename": "KeyboardInterrupt",
     "evalue": "",
     "output_type": "error",
     "traceback": [
      "\u001b[0;31m---------------------------------------------------------------------------\u001b[0m",
      "\u001b[0;31mKeyboardInterrupt\u001b[0m                         Traceback (most recent call last)",
      "Cell \u001b[0;32mIn[9], line 100\u001b[0m\n\u001b[1;32m     94\u001b[0m config \u001b[38;5;241m=\u001b[39m CustomWARPRunConfig(\n\u001b[1;32m     95\u001b[0m     nbits\u001b[38;5;241m=\u001b[39m\u001b[38;5;241m4\u001b[39m,\n\u001b[1;32m     96\u001b[0m     collection\u001b[38;5;241m=\u001b[39mcollection,\n\u001b[1;32m     97\u001b[0m )\n\u001b[1;32m     99\u001b[0m \u001b[38;5;66;03m# Construct an index over the provided collection.\u001b[39;00m\n\u001b[0;32m--> 100\u001b[0m \u001b[43mconstruct_index\u001b[49m\u001b[43m(\u001b[49m\u001b[43mconfig\u001b[49m\u001b[43m)\u001b[49m\n\u001b[1;32m    102\u001b[0m \u001b[38;5;66;03m# Prepare for searching via the constructed index.\u001b[39;00m\n\u001b[1;32m    103\u001b[0m searcher \u001b[38;5;241m=\u001b[39m WARPSearcher(config)\n",
      "Cell \u001b[0;32mIn[9], line 72\u001b[0m, in \u001b[0;36mconstruct_index\u001b[0;34m(config)\u001b[0m\n\u001b[1;32m     71\u001b[0m \u001b[38;5;28;01mdef\u001b[39;00m\u001b[38;5;250m \u001b[39m\u001b[38;5;21mconstruct_index\u001b[39m(config: WARPRunConfig):\n\u001b[0;32m---> 72\u001b[0m     \u001b[43mindex\u001b[49m\u001b[43m(\u001b[49m\u001b[43mconfig\u001b[49m\u001b[43m)\u001b[49m\n\u001b[1;32m     73\u001b[0m     convert_index(os\u001b[38;5;241m.\u001b[39mpath\u001b[38;5;241m.\u001b[39mjoin(config\u001b[38;5;241m.\u001b[39mindex_root, config\u001b[38;5;241m.\u001b[39mindex_name))\n",
      "File \u001b[0;32m~/projects/xtr-warp/custom_data/../warp/engine/utils/collection_indexer.py:11\u001b[0m, in \u001b[0;36mindex\u001b[0;34m(config)\u001b[0m\n\u001b[1;32m      7\u001b[0m \u001b[38;5;28;01mwith\u001b[39;00m Run()\u001b[38;5;241m.\u001b[39mcontext(\n\u001b[1;32m      8\u001b[0m     RunConfig(nranks\u001b[38;5;241m=\u001b[39mconfig\u001b[38;5;241m.\u001b[39mnranks, experiment\u001b[38;5;241m=\u001b[39mconfig\u001b[38;5;241m.\u001b[39mexperiment_name)\n\u001b[1;32m      9\u001b[0m ):\n\u001b[1;32m     10\u001b[0m     indexer \u001b[38;5;241m=\u001b[39m Indexer(checkpoint\u001b[38;5;241m=\u001b[39m\u001b[38;5;124m\"\u001b[39m\u001b[38;5;124mgoogle/xtr-base-en\u001b[39m\u001b[38;5;124m\"\u001b[39m, config\u001b[38;5;241m=\u001b[39mconfig\u001b[38;5;241m.\u001b[39mcolbert())\n\u001b[0;32m---> 11\u001b[0m     \u001b[43mindexer\u001b[49m\u001b[38;5;241;43m.\u001b[39;49m\u001b[43mindex\u001b[49m\u001b[43m(\u001b[49m\u001b[43mname\u001b[49m\u001b[38;5;241;43m=\u001b[39;49m\u001b[43mconfig\u001b[49m\u001b[38;5;241;43m.\u001b[39;49m\u001b[43mindex_name\u001b[49m\u001b[43m,\u001b[49m\u001b[43m \u001b[49m\u001b[43mcollection\u001b[49m\u001b[38;5;241;43m=\u001b[39;49m\u001b[43mconfig\u001b[49m\u001b[38;5;241;43m.\u001b[39;49m\u001b[43mcollection_path\u001b[49m\u001b[43m)\u001b[49m\n",
      "File \u001b[0;32m~/projects/xtr-warp/custom_data/../warp/indexer.py:80\u001b[0m, in \u001b[0;36mIndexer.index\u001b[0;34m(self, name, collection, overwrite)\u001b[0m\n\u001b[1;32m     77\u001b[0m     \u001b[38;5;28mself\u001b[39m\u001b[38;5;241m.\u001b[39merase()\n\u001b[1;32m     79\u001b[0m \u001b[38;5;28;01mif\u001b[39;00m index_does_not_exist \u001b[38;5;129;01mor\u001b[39;00m overwrite \u001b[38;5;241m!=\u001b[39m \u001b[38;5;124m'\u001b[39m\u001b[38;5;124mreuse\u001b[39m\u001b[38;5;124m'\u001b[39m:\n\u001b[0;32m---> 80\u001b[0m     \u001b[38;5;28;43mself\u001b[39;49m\u001b[38;5;241;43m.\u001b[39;49m\u001b[43m__launch\u001b[49m\u001b[43m(\u001b[49m\u001b[43mcollection\u001b[49m\u001b[43m)\u001b[49m\n\u001b[1;32m     82\u001b[0m \u001b[38;5;28;01mreturn\u001b[39;00m \u001b[38;5;28mself\u001b[39m\u001b[38;5;241m.\u001b[39mindex_path\n",
      "File \u001b[0;32m~/projects/xtr-warp/custom_data/../warp/indexer.py:98\u001b[0m, in \u001b[0;36mIndexer.__launch\u001b[0;34m(self, collection)\u001b[0m\n\u001b[1;32m     95\u001b[0m shared_queues \u001b[38;5;241m=\u001b[39m [manager\u001b[38;5;241m.\u001b[39mQueue(maxsize\u001b[38;5;241m=\u001b[39m\u001b[38;5;241m1\u001b[39m) \u001b[38;5;28;01mfor\u001b[39;00m _ \u001b[38;5;129;01min\u001b[39;00m \u001b[38;5;28mrange\u001b[39m(\u001b[38;5;28mself\u001b[39m\u001b[38;5;241m.\u001b[39mconfig\u001b[38;5;241m.\u001b[39mnranks)]\n\u001b[1;32m     97\u001b[0m \u001b[38;5;66;03m# Encodes collection into index using the CollectionIndexer class\u001b[39;00m\n\u001b[0;32m---> 98\u001b[0m \u001b[43mlauncher\u001b[49m\u001b[38;5;241;43m.\u001b[39;49m\u001b[43mlaunch\u001b[49m\u001b[43m(\u001b[49m\u001b[38;5;28;43mself\u001b[39;49m\u001b[38;5;241;43m.\u001b[39;49m\u001b[43mconfig\u001b[49m\u001b[43m,\u001b[49m\u001b[43m \u001b[49m\u001b[43mcollection\u001b[49m\u001b[43m,\u001b[49m\u001b[43m \u001b[49m\u001b[43mshared_lists\u001b[49m\u001b[43m,\u001b[49m\u001b[43m \u001b[49m\u001b[43mshared_queues\u001b[49m\u001b[43m,\u001b[49m\u001b[43m \u001b[49m\u001b[38;5;28;43mself\u001b[39;49m\u001b[38;5;241;43m.\u001b[39;49m\u001b[43mverbose\u001b[49m\u001b[43m)\u001b[49m\n",
      "File \u001b[0;32m~/projects/xtr-warp/custom_data/../warp/infra/launcher.py:72\u001b[0m, in \u001b[0;36mLauncher.launch\u001b[0;34m(self, custom_config, *args)\u001b[0m\n\u001b[1;32m     68\u001b[0m print_memory_stats(\u001b[38;5;124m'\u001b[39m\u001b[38;5;124mMAIN\u001b[39m\u001b[38;5;124m'\u001b[39m)\n\u001b[1;32m     70\u001b[0m \u001b[38;5;66;03m# TODO: If the processes crash upon join, raise an exception and don't block on .get() below!\u001b[39;00m\n\u001b[0;32m---> 72\u001b[0m return_values \u001b[38;5;241m=\u001b[39m \u001b[38;5;28msorted\u001b[39m([return_value_queue\u001b[38;5;241m.\u001b[39mget() \u001b[38;5;28;01mfor\u001b[39;00m _ \u001b[38;5;129;01min\u001b[39;00m all_procs])\n\u001b[1;32m     73\u001b[0m return_values \u001b[38;5;241m=\u001b[39m [val \u001b[38;5;28;01mfor\u001b[39;00m rank, val \u001b[38;5;129;01min\u001b[39;00m return_values]\n\u001b[1;32m     75\u001b[0m \u001b[38;5;28;01mif\u001b[39;00m \u001b[38;5;129;01mnot\u001b[39;00m \u001b[38;5;28mself\u001b[39m\u001b[38;5;241m.\u001b[39mreturn_all:\n",
      "File \u001b[0;32m~/projects/xtr-warp/custom_data/../warp/infra/launcher.py:72\u001b[0m, in \u001b[0;36m<listcomp>\u001b[0;34m(.0)\u001b[0m\n\u001b[1;32m     68\u001b[0m print_memory_stats(\u001b[38;5;124m'\u001b[39m\u001b[38;5;124mMAIN\u001b[39m\u001b[38;5;124m'\u001b[39m)\n\u001b[1;32m     70\u001b[0m \u001b[38;5;66;03m# TODO: If the processes crash upon join, raise an exception and don't block on .get() below!\u001b[39;00m\n\u001b[0;32m---> 72\u001b[0m return_values \u001b[38;5;241m=\u001b[39m \u001b[38;5;28msorted\u001b[39m([\u001b[43mreturn_value_queue\u001b[49m\u001b[38;5;241;43m.\u001b[39;49m\u001b[43mget\u001b[49m\u001b[43m(\u001b[49m\u001b[43m)\u001b[49m \u001b[38;5;28;01mfor\u001b[39;00m _ \u001b[38;5;129;01min\u001b[39;00m all_procs])\n\u001b[1;32m     73\u001b[0m return_values \u001b[38;5;241m=\u001b[39m [val \u001b[38;5;28;01mfor\u001b[39;00m rank, val \u001b[38;5;129;01min\u001b[39;00m return_values]\n\u001b[1;32m     75\u001b[0m \u001b[38;5;28;01mif\u001b[39;00m \u001b[38;5;129;01mnot\u001b[39;00m \u001b[38;5;28mself\u001b[39m\u001b[38;5;241m.\u001b[39mreturn_all:\n",
      "File \u001b[0;32m~/miniconda3/envs/warp/lib/python3.8/multiprocessing/queues.py:97\u001b[0m, in \u001b[0;36mQueue.get\u001b[0;34m(self, block, timeout)\u001b[0m\n\u001b[1;32m     95\u001b[0m \u001b[38;5;28;01mif\u001b[39;00m block \u001b[38;5;129;01mand\u001b[39;00m timeout \u001b[38;5;129;01mis\u001b[39;00m \u001b[38;5;28;01mNone\u001b[39;00m:\n\u001b[1;32m     96\u001b[0m     \u001b[38;5;28;01mwith\u001b[39;00m \u001b[38;5;28mself\u001b[39m\u001b[38;5;241m.\u001b[39m_rlock:\n\u001b[0;32m---> 97\u001b[0m         res \u001b[38;5;241m=\u001b[39m \u001b[38;5;28;43mself\u001b[39;49m\u001b[38;5;241;43m.\u001b[39;49m\u001b[43m_recv_bytes\u001b[49m\u001b[43m(\u001b[49m\u001b[43m)\u001b[49m\n\u001b[1;32m     98\u001b[0m     \u001b[38;5;28mself\u001b[39m\u001b[38;5;241m.\u001b[39m_sem\u001b[38;5;241m.\u001b[39mrelease()\n\u001b[1;32m     99\u001b[0m \u001b[38;5;28;01melse\u001b[39;00m:\n",
      "File \u001b[0;32m~/miniconda3/envs/warp/lib/python3.8/multiprocessing/connection.py:216\u001b[0m, in \u001b[0;36m_ConnectionBase.recv_bytes\u001b[0;34m(self, maxlength)\u001b[0m\n\u001b[1;32m    214\u001b[0m \u001b[38;5;28;01mif\u001b[39;00m maxlength \u001b[38;5;129;01mis\u001b[39;00m \u001b[38;5;129;01mnot\u001b[39;00m \u001b[38;5;28;01mNone\u001b[39;00m \u001b[38;5;129;01mand\u001b[39;00m maxlength \u001b[38;5;241m<\u001b[39m \u001b[38;5;241m0\u001b[39m:\n\u001b[1;32m    215\u001b[0m     \u001b[38;5;28;01mraise\u001b[39;00m \u001b[38;5;167;01mValueError\u001b[39;00m(\u001b[38;5;124m\"\u001b[39m\u001b[38;5;124mnegative maxlength\u001b[39m\u001b[38;5;124m\"\u001b[39m)\n\u001b[0;32m--> 216\u001b[0m buf \u001b[38;5;241m=\u001b[39m \u001b[38;5;28;43mself\u001b[39;49m\u001b[38;5;241;43m.\u001b[39;49m\u001b[43m_recv_bytes\u001b[49m\u001b[43m(\u001b[49m\u001b[43mmaxlength\u001b[49m\u001b[43m)\u001b[49m\n\u001b[1;32m    217\u001b[0m \u001b[38;5;28;01mif\u001b[39;00m buf \u001b[38;5;129;01mis\u001b[39;00m \u001b[38;5;28;01mNone\u001b[39;00m:\n\u001b[1;32m    218\u001b[0m     \u001b[38;5;28mself\u001b[39m\u001b[38;5;241m.\u001b[39m_bad_message_length()\n",
      "File \u001b[0;32m~/miniconda3/envs/warp/lib/python3.8/multiprocessing/connection.py:414\u001b[0m, in \u001b[0;36mConnection._recv_bytes\u001b[0;34m(self, maxsize)\u001b[0m\n\u001b[1;32m    413\u001b[0m \u001b[38;5;28;01mdef\u001b[39;00m\u001b[38;5;250m \u001b[39m\u001b[38;5;21m_recv_bytes\u001b[39m(\u001b[38;5;28mself\u001b[39m, maxsize\u001b[38;5;241m=\u001b[39m\u001b[38;5;28;01mNone\u001b[39;00m):\n\u001b[0;32m--> 414\u001b[0m     buf \u001b[38;5;241m=\u001b[39m \u001b[38;5;28;43mself\u001b[39;49m\u001b[38;5;241;43m.\u001b[39;49m\u001b[43m_recv\u001b[49m\u001b[43m(\u001b[49m\u001b[38;5;241;43m4\u001b[39;49m\u001b[43m)\u001b[49m\n\u001b[1;32m    415\u001b[0m     size, \u001b[38;5;241m=\u001b[39m struct\u001b[38;5;241m.\u001b[39munpack(\u001b[38;5;124m\"\u001b[39m\u001b[38;5;124m!i\u001b[39m\u001b[38;5;124m\"\u001b[39m, buf\u001b[38;5;241m.\u001b[39mgetvalue())\n\u001b[1;32m    416\u001b[0m     \u001b[38;5;28;01mif\u001b[39;00m size \u001b[38;5;241m==\u001b[39m \u001b[38;5;241m-\u001b[39m\u001b[38;5;241m1\u001b[39m:\n",
      "File \u001b[0;32m~/miniconda3/envs/warp/lib/python3.8/multiprocessing/connection.py:379\u001b[0m, in \u001b[0;36mConnection._recv\u001b[0;34m(self, size, read)\u001b[0m\n\u001b[1;32m    377\u001b[0m remaining \u001b[38;5;241m=\u001b[39m size\n\u001b[1;32m    378\u001b[0m \u001b[38;5;28;01mwhile\u001b[39;00m remaining \u001b[38;5;241m>\u001b[39m \u001b[38;5;241m0\u001b[39m:\n\u001b[0;32m--> 379\u001b[0m     chunk \u001b[38;5;241m=\u001b[39m \u001b[43mread\u001b[49m\u001b[43m(\u001b[49m\u001b[43mhandle\u001b[49m\u001b[43m,\u001b[49m\u001b[43m \u001b[49m\u001b[43mremaining\u001b[49m\u001b[43m)\u001b[49m\n\u001b[1;32m    380\u001b[0m     n \u001b[38;5;241m=\u001b[39m \u001b[38;5;28mlen\u001b[39m(chunk)\n\u001b[1;32m    381\u001b[0m     \u001b[38;5;28;01mif\u001b[39;00m n \u001b[38;5;241m==\u001b[39m \u001b[38;5;241m0\u001b[39m:\n",
      "\u001b[0;31mKeyboardInterrupt\u001b[0m: "
     ]
    }
   ],
   "source": [
    "import os, sys\n",
    "import torch\n",
    "from multiprocessing import freeze_support\n",
    "sys.path.append('..')\n",
    "from warp.engine.config import WARPRunConfig\n",
    "from warp.engine.searcher import WARPSearcher\n",
    "from warp.engine.utils.collection_indexer import index\n",
    "from warp.engine.utils.index_converter import convert_index\n",
    "\n",
    "class CustomWARPRunConfig(WARPRunConfig):\n",
    "    def __init__(self, collection, nbits: int = 4, k: int = 10):\n",
    "        self.collection = collection\n",
    "        self.nbits = nbits\n",
    "        self.k = k\n",
    "\n",
    "    @property\n",
    "    def experiment_name(self):\n",
    "        return f\"{self.collection.name}\"\n",
    "\n",
    "    @property\n",
    "    def index_name(self):\n",
    "        return f\"{self.collection.name}.nbits={self.nbits}\"\n",
    "\n",
    "    @property\n",
    "    def collection_path(self):\n",
    "        return self.collection.path\n",
    "\n",
    "passages = [\n",
    "    \"Bananas are berries, but strawberries aren't.\",\n",
    "    \"Octopuses have three hearts and blue blood.\",\n",
    "    \"A day on Venus is longer than a year on Venus.\",\n",
    "    \"There are more trees on Earth than stars in the Milky Way.\",\n",
    "    \"Water can boil and freeze at the same time, known as the triple point.\",\n",
    "    \"A shrimp's heart is located in its head.\",\n",
    "    \"Honey never spoils; archaeologists have found 3000-year-old edible honey.\",\n",
    "    \"Wombat poop is cube-shaped to prevent it from rolling away.\",\n",
    "    \"There's a species of jellyfish that is biologically immortal.\",\n",
    "    \"Humans share about 60% of their DNA with bananas.\",\n",
    "    \"The Eiffel Tower can grow taller in the summer due to heat expansion.\",\n",
    "    \"Some turtles can breathe through their butts.\",\n",
    "    \"The shortest war in history lasted 38 to 45 minutes (Anglo-Zanzibar War).\",\n",
    "    \"There's a gas cloud in space that smells like rum and tastes like raspberries.\",\n",
    "    \"Cows have best friends and get stressed when separated.\",\n",
    "    \"A group of flamingos is called a 'flamboyance'.\",\n",
    "    \"There's a species of fungus that can turn ants into zombies.\",\n",
    "    \"Sharks existed before trees.\",\n",
    "    \"Scotland has 421 words for 'snow'.\",\n",
    "    \"Hot water freezes faster than cold water, known as the Mpemba effect.\",\n",
    "    \"The inventor of the frisbee was turned into a frisbee after he died.\",\n",
    "    \"There's an island in Japan where bunnies outnumber people.\",\n",
    "    \"Sloths can hold their breath longer than dolphins.\",\n",
    "    \"You can hear a blue whale's heartbeat from over 2 miles away.\",\n",
    "    \"Butterflies can taste with their feet.\",\n",
    "    \"A day on Earth was once only 6 hours long in the distant past.\",\n",
    "    \"Vatican City has the highest crime rate per capita due to its tiny population.\",\n",
    "    \"There's an official Wizard of New Zealand, appointed by the government.\",\n",
    "    \"A bolt of lightning is five times hotter than the surface of the sun.\",\n",
    "    \"The letter 'E' is the most common letter in the English language.\",\n",
    "    \"There's a lake in Australia that stays bright pink regardless of conditions.\",\n",
    "    \"Cleopatra lived closer in time to the first moon landing than to the building of the Great Pyramid.\"\n",
    "]\n",
    "\n",
    "class CustomCollection:\n",
    "    def __init__(self, name: str, path: str, passages):\n",
    "        self.name = name\n",
    "        self.path = path\n",
    "        os.makedirs(os.path.dirname(path), exist_ok=True)\n",
    "        with open(path, \"w\") as file:\n",
    "            file.writelines([f\"{pid}\\t{passage}\\n\" for pid, passage in enumerate(passages)])\n",
    "\n",
    "def construct_index(config: WARPRunConfig):\n",
    "    index(config)\n",
    "    convert_index(os.path.join(config.index_root, config.index_name))\n",
    "\n",
    "def print_query(searcher: WARPSearcher, query: str):\n",
    "    print(f\"Query: {query}\")\n",
    "    passage_ids, _, scores = searcher.search(query, k=10)\n",
    "    for pid, score in zip(passage_ids, scores):\n",
    "        print(pid, passages[pid], score)\n",
    "    print(\"====================\")\n",
    "\n",
    "if __name__ == '__main__':\n",
    "    os.environ[\"INDEX_ROOT\"] = os.path.expanduser(\"~/warp/indexes\")\n",
    "    freeze_support()\n",
    "    torch.set_num_threads(1)\n",
    "\n",
    "    # Define the collection (i.e., list of passages)\n",
    "    collection_path = os.path.expanduser(\"~/collections/my_list_of_facts.tsv\")\n",
    "    collection = CustomCollection(\n",
    "        name=\"my_list_of_facts\",\n",
    "        path=collection_path,\n",
    "        passages=passages\n",
    "    )\n",
    "    config = CustomWARPRunConfig(\n",
    "        nbits=4,\n",
    "        collection=collection,\n",
    "    )\n",
    "\n",
    "    # Construct an index over the provided collection.\n",
    "    construct_index(config)\n",
    "\n",
    "    # Prepare for searching via the constructed index.\n",
    "    searcher = WARPSearcher(config)\n",
    "\n",
    "    # Handle \"user\" queries using the searcher.\n",
    "    print_query(searcher, \"how do butterflies taste?\")\n",
    "    print_query(searcher, \"quickest war in history?\")"
   ]
  },
  {
   "cell_type": "code",
   "execution_count": null,
   "metadata": {},
   "outputs": [
    {
     "data": {
      "application/vnd.jupyter.widget-view+json": {
       "model_id": "0e4d4a5a247c4eb29a23277715401ad3",
       "version_major": 2,
       "version_minor": 0
      },
      "text/plain": [
       "config.json:   0%|          | 0.00/6.01k [00:00<?, ?B/s]"
      ]
     },
     "metadata": {},
     "output_type": "display_data"
    },
    {
     "data": {
      "application/vnd.jupyter.widget-view+json": {
       "model_id": "52e4cfc34110432f921bfa4939ab11f0",
       "version_major": 2,
       "version_minor": 0
      },
      "text/plain": [
       "model.safetensors:   0%|          | 0.00/253M [00:00<?, ?B/s]"
      ]
     },
     "metadata": {},
     "output_type": "display_data"
    },
    {
     "name": "stdout",
     "output_type": "stream",
     "text": [
      "Loaded layout model datalab-to/surya_layout on device cuda with dtype torch.float16\n"
     ]
    },
    {
     "data": {
      "application/vnd.jupyter.widget-view+json": {
       "model_id": "f435fbfc744d4290a4b12c4effbc4095",
       "version_major": 2,
       "version_minor": 0
      },
      "text/plain": [
       "config.json:   0%|          | 0.00/5.81k [00:00<?, ?B/s]"
      ]
     },
     "metadata": {},
     "output_type": "display_data"
    },
    {
     "data": {
      "application/vnd.jupyter.widget-view+json": {
       "model_id": "0ee775261c0645b6aa1e045244ce4d05",
       "version_major": 2,
       "version_minor": 0
      },
      "text/plain": [
       "model.safetensors:   0%|          | 0.00/339M [00:00<?, ?B/s]"
      ]
     },
     "metadata": {},
     "output_type": "display_data"
    },
    {
     "name": "stdout",
     "output_type": "stream",
     "text": [
      "Loaded texify model datalab-to/texify on device cuda with dtype torch.float16\n"
     ]
    },
    {
     "data": {
      "application/vnd.jupyter.widget-view+json": {
       "model_id": "ccdd0b7721a24c95bdeac56fbcc6db55",
       "version_major": 2,
       "version_minor": 0
      },
      "text/plain": [
       "preprocessor_config.json:   0%|          | 0.00/556 [00:00<?, ?B/s]"
      ]
     },
     "metadata": {},
     "output_type": "display_data"
    },
    {
     "data": {
      "application/vnd.jupyter.widget-view+json": {
       "model_id": "e53c834394bd479dbd942566ac65dc22",
       "version_major": 2,
       "version_minor": 0
      },
      "text/plain": [
       "tokenizer_config.json:   0%|          | 0.00/3.16M [00:00<?, ?B/s]"
      ]
     },
     "metadata": {},
     "output_type": "display_data"
    },
    {
     "data": {
      "application/vnd.jupyter.widget-view+json": {
       "model_id": "d7e3b194f70e4c0fa82ead814e6b3b43",
       "version_major": 2,
       "version_minor": 0
      },
      "text/plain": [
       "tokenizer.json:   0%|          | 0.00/6.92M [00:00<?, ?B/s]"
      ]
     },
     "metadata": {},
     "output_type": "display_data"
    },
    {
     "data": {
      "application/vnd.jupyter.widget-view+json": {
       "model_id": "fa4dfe15d40c4530967406134f83a7c9",
       "version_major": 2,
       "version_minor": 0
      },
      "text/plain": [
       "special_tokens_map.json:   0%|          | 0.00/552 [00:00<?, ?B/s]"
      ]
     },
     "metadata": {},
     "output_type": "display_data"
    },
    {
     "data": {
      "application/vnd.jupyter.widget-view+json": {
       "model_id": "084e3aad28ad41d7b1b2e467783f2ff6",
       "version_major": 2,
       "version_minor": 0
      },
      "text/plain": [
       "config.json:   0%|          | 0.00/8.05k [00:00<?, ?B/s]"
      ]
     },
     "metadata": {},
     "output_type": "display_data"
    },
    {
     "data": {
      "application/vnd.jupyter.widget-view+json": {
       "model_id": "d9c7bbbe487f420686c711ae14f8647d",
       "version_major": 2,
       "version_minor": 0
      },
      "text/plain": [
       "model.safetensors:   0%|          | 0.00/941M [00:00<?, ?B/s]"
      ]
     },
     "metadata": {},
     "output_type": "display_data"
    },
    {
     "name": "stdout",
     "output_type": "stream",
     "text": [
      "Loaded recognition model vikp/surya_rec2 on device cuda with dtype torch.float16\n"
     ]
    },
    {
     "data": {
      "application/vnd.jupyter.widget-view+json": {
       "model_id": "d91707870b924fa0a84eadf2c5d91492",
       "version_major": 2,
       "version_minor": 0
      },
      "text/plain": [
       "preprocessor_config.json:   0%|          | 0.00/556 [00:00<?, ?B/s]"
      ]
     },
     "metadata": {},
     "output_type": "display_data"
    },
    {
     "data": {
      "application/vnd.jupyter.widget-view+json": {
       "model_id": "b6f50f9c8f10449bbd42475aee1564dc",
       "version_major": 2,
       "version_minor": 0
      },
      "text/plain": [
       "config.json:   0%|          | 0.00/6.37k [00:00<?, ?B/s]"
      ]
     },
     "metadata": {},
     "output_type": "display_data"
    },
    {
     "data": {
      "application/vnd.jupyter.widget-view+json": {
       "model_id": "df8f716c90b947bb9c063979ac958e00",
       "version_major": 2,
       "version_minor": 0
      },
      "text/plain": [
       "model.safetensors:   0%|          | 0.00/211M [00:00<?, ?B/s]"
      ]
     },
     "metadata": {},
     "output_type": "display_data"
    },
    {
     "name": "stdout",
     "output_type": "stream",
     "text": [
      "Loaded table recognition model datalab-to/surya_tablerec on device cuda with dtype torch.float16\n"
     ]
    },
    {
     "data": {
      "application/vnd.jupyter.widget-view+json": {
       "model_id": "667d8242b013495a95e7d0e5723eb0cf",
       "version_major": 2,
       "version_minor": 0
      },
      "text/plain": [
       "preprocessor_config.json:   0%|          | 0.00/564 [00:00<?, ?B/s]"
      ]
     },
     "metadata": {},
     "output_type": "display_data"
    },
    {
     "data": {
      "application/vnd.jupyter.widget-view+json": {
       "model_id": "76d2ddbb924e4158b45c6c93b7dd0c13",
       "version_major": 2,
       "version_minor": 0
      },
      "text/plain": [
       "config.json:   0%|          | 0.00/811 [00:00<?, ?B/s]"
      ]
     },
     "metadata": {},
     "output_type": "display_data"
    },
    {
     "data": {
      "application/vnd.jupyter.widget-view+json": {
       "model_id": "3189ed2e20e04f838bceaacb68a59f5e",
       "version_major": 2,
       "version_minor": 0
      },
      "text/plain": [
       "model.safetensors:   0%|          | 0.00/154M [00:00<?, ?B/s]"
      ]
     },
     "metadata": {},
     "output_type": "display_data"
    },
    {
     "name": "stdout",
     "output_type": "stream",
     "text": [
      "Loaded detection model vikp/surya_det3 on device cuda with dtype torch.float16\n"
     ]
    },
    {
     "data": {
      "application/vnd.jupyter.widget-view+json": {
       "model_id": "0650aa3d791a4724a95ea4a2ec178c48",
       "version_major": 2,
       "version_minor": 0
      },
      "text/plain": [
       "preprocessor_config.json:   0%|          | 0.00/675 [00:00<?, ?B/s]"
      ]
     },
     "metadata": {},
     "output_type": "display_data"
    },
    {
     "data": {
      "application/vnd.jupyter.widget-view+json": {
       "model_id": "e02a4b8d04c54bf0b1803af2b8c6aacf",
       "version_major": 2,
       "version_minor": 0
      },
      "text/plain": [
       "config.json:   0%|          | 0.00/647 [00:00<?, ?B/s]"
      ]
     },
     "metadata": {},
     "output_type": "display_data"
    },
    {
     "data": {
      "application/vnd.jupyter.widget-view+json": {
       "model_id": "26148ffe30214ea18030ae8d11d38707",
       "version_major": 2,
       "version_minor": 0
      },
      "text/plain": [
       "model.safetensors:   0%|          | 0.00/271M [00:00<?, ?B/s]"
      ]
     },
     "metadata": {},
     "output_type": "display_data"
    },
    {
     "data": {
      "application/vnd.jupyter.widget-view+json": {
       "model_id": "7c30cef9e802479f848b46598be1b90d",
       "version_major": 2,
       "version_minor": 0
      },
      "text/plain": [
       "tokenizer_config.json:   0%|          | 0.00/1.20k [00:00<?, ?B/s]"
      ]
     },
     "metadata": {},
     "output_type": "display_data"
    },
    {
     "data": {
      "application/vnd.jupyter.widget-view+json": {
       "model_id": "e9d1d9aaabf54394b186795a3a371cd2",
       "version_major": 2,
       "version_minor": 0
      },
      "text/plain": [
       "vocab.txt:   0%|          | 0.00/996k [00:00<?, ?B/s]"
      ]
     },
     "metadata": {},
     "output_type": "display_data"
    },
    {
     "data": {
      "application/vnd.jupyter.widget-view+json": {
       "model_id": "d872c2a224874a65bdb2e8c5082643b3",
       "version_major": 2,
       "version_minor": 0
      },
      "text/plain": [
       "special_tokens_map.json:   0%|          | 0.00/695 [00:00<?, ?B/s]"
      ]
     },
     "metadata": {},
     "output_type": "display_data"
    },
    {
     "data": {
      "application/vnd.jupyter.widget-view+json": {
       "model_id": "afc311b94edb40eab81bdb67a6760e66",
       "version_major": 2,
       "version_minor": 0
      },
      "text/plain": [
       "tokenizer.json:   0%|          | 0.00/2.92M [00:00<?, ?B/s]"
      ]
     },
     "metadata": {},
     "output_type": "display_data"
    },
    {
     "ename": "IsADirectoryError",
     "evalue": "[Errno 21] Is a directory: '/media/yeok/OS/projects_data/papers-graph/data/2014-03-07'",
     "output_type": "error",
     "traceback": [
      "\u001b[0;31m---------------------------------------------------------------------------\u001b[0m",
      "\u001b[0;31mIsADirectoryError\u001b[0m                         Traceback (most recent call last)",
      "Cell \u001b[0;32mIn[8], line 10\u001b[0m\n\u001b[1;32m      5\u001b[0m \u001b[38;5;28;01mfrom\u001b[39;00m\u001b[38;5;250m \u001b[39m\u001b[38;5;21;01mmarker\u001b[39;00m\u001b[38;5;21;01m.\u001b[39;00m\u001b[38;5;21;01moutput\u001b[39;00m\u001b[38;5;250m \u001b[39m\u001b[38;5;28;01mimport\u001b[39;00m text_from_rendered\n\u001b[1;32m      7\u001b[0m converter \u001b[38;5;241m=\u001b[39m PdfConverter(   \n\u001b[1;32m      8\u001b[0m     artifact_dict\u001b[38;5;241m=\u001b[39mcreate_model_dict(),\n\u001b[1;32m      9\u001b[0m )\n\u001b[0;32m---> 10\u001b[0m rendered \u001b[38;5;241m=\u001b[39m \u001b[43mconverter\u001b[49m\u001b[43m(\u001b[49m\u001b[38;5;124;43m\"\u001b[39;49m\u001b[38;5;124;43m/media/yeok/OS/projects_data/papers-graph/data/2014-03-07\u001b[39;49m\u001b[38;5;124;43m\"\u001b[39;49m\u001b[43m)\u001b[49m\n\u001b[1;32m     11\u001b[0m text, _, images \u001b[38;5;241m=\u001b[39m text_from_rendered(rendered)\n",
      "File \u001b[0;32m~/projects/xtr-warp/marker/marker/converters/pdf.py:145\u001b[0m, in \u001b[0;36mPdfConverter.__call__\u001b[0;34m(self, filepath)\u001b[0m\n\u001b[1;32m    144\u001b[0m \u001b[38;5;28;01mdef\u001b[39;00m\u001b[38;5;250m \u001b[39m\u001b[38;5;21m__call__\u001b[39m(\u001b[38;5;28mself\u001b[39m, filepath: \u001b[38;5;28mstr\u001b[39m):\n\u001b[0;32m--> 145\u001b[0m     document \u001b[38;5;241m=\u001b[39m \u001b[38;5;28;43mself\u001b[39;49m\u001b[38;5;241;43m.\u001b[39;49m\u001b[43mbuild_document\u001b[49m\u001b[43m(\u001b[49m\u001b[43mfilepath\u001b[49m\u001b[43m)\u001b[49m\n\u001b[1;32m    146\u001b[0m     renderer \u001b[38;5;241m=\u001b[39m \u001b[38;5;28mself\u001b[39m\u001b[38;5;241m.\u001b[39mresolve_dependencies(\u001b[38;5;28mself\u001b[39m\u001b[38;5;241m.\u001b[39mrenderer)\n\u001b[1;32m    147\u001b[0m     \u001b[38;5;28;01mreturn\u001b[39;00m renderer(document)\n",
      "File \u001b[0;32m~/projects/xtr-warp/marker/marker/converters/pdf.py:131\u001b[0m, in \u001b[0;36mPdfConverter.build_document\u001b[0;34m(self, filepath)\u001b[0m\n\u001b[1;32m    129\u001b[0m \u001b[38;5;129m@cache\u001b[39m\n\u001b[1;32m    130\u001b[0m \u001b[38;5;28;01mdef\u001b[39;00m\u001b[38;5;250m \u001b[39m\u001b[38;5;21mbuild_document\u001b[39m(\u001b[38;5;28mself\u001b[39m, filepath: \u001b[38;5;28mstr\u001b[39m):\n\u001b[0;32m--> 131\u001b[0m     provider_cls \u001b[38;5;241m=\u001b[39m \u001b[43mprovider_from_filepath\u001b[49m\u001b[43m(\u001b[49m\u001b[43mfilepath\u001b[49m\u001b[43m)\u001b[49m\n\u001b[1;32m    132\u001b[0m     layout_builder \u001b[38;5;241m=\u001b[39m \u001b[38;5;28mself\u001b[39m\u001b[38;5;241m.\u001b[39mresolve_dependencies(\u001b[38;5;28mself\u001b[39m\u001b[38;5;241m.\u001b[39mlayout_builder_class)\n\u001b[1;32m    133\u001b[0m     ocr_builder \u001b[38;5;241m=\u001b[39m \u001b[38;5;28mself\u001b[39m\u001b[38;5;241m.\u001b[39mresolve_dependencies(OcrBuilder)\n",
      "File \u001b[0;32m~/projects/xtr-warp/marker/marker/providers/registry.py:8\u001b[0m, in \u001b[0;36mprovider_from_filepath\u001b[0;34m(filepath)\u001b[0m\n\u001b[1;32m      7\u001b[0m \u001b[38;5;28;01mdef\u001b[39;00m\u001b[38;5;250m \u001b[39m\u001b[38;5;21mprovider_from_filepath\u001b[39m(filepath: \u001b[38;5;28mstr\u001b[39m):\n\u001b[0;32m----> 8\u001b[0m      kind \u001b[38;5;241m=\u001b[39m \u001b[43mfiletype\u001b[49m\u001b[38;5;241;43m.\u001b[39;49m\u001b[43mimage_match\u001b[49m\u001b[43m(\u001b[49m\u001b[43mfilepath\u001b[49m\u001b[43m)\u001b[49m\n\u001b[1;32m      9\u001b[0m      \u001b[38;5;28;01mif\u001b[39;00m kind \u001b[38;5;129;01mis\u001b[39;00m \u001b[38;5;129;01mnot\u001b[39;00m \u001b[38;5;28;01mNone\u001b[39;00m:\n\u001b[1;32m     10\u001b[0m         \u001b[38;5;28;01mreturn\u001b[39;00m ImageProvider\n",
      "File \u001b[0;32m~/miniconda3/envs/torch251/lib/python3.11/site-packages/filetype/match.py:53\u001b[0m, in \u001b[0;36mimage_match\u001b[0;34m(obj)\u001b[0m\n\u001b[1;32m     39\u001b[0m \u001b[38;5;28;01mdef\u001b[39;00m\u001b[38;5;250m \u001b[39m\u001b[38;5;21mimage_match\u001b[39m(obj):\n\u001b[1;32m     40\u001b[0m \u001b[38;5;250m    \u001b[39m\u001b[38;5;124;03m\"\"\"\u001b[39;00m\n\u001b[1;32m     41\u001b[0m \u001b[38;5;124;03m    Matches the given input against the available\u001b[39;00m\n\u001b[1;32m     42\u001b[0m \u001b[38;5;124;03m    image type matchers.\u001b[39;00m\n\u001b[0;32m   (...)\u001b[0m\n\u001b[1;32m     51\u001b[0m \u001b[38;5;124;03m        TypeError: if obj is not a supported type.\u001b[39;00m\n\u001b[1;32m     52\u001b[0m \u001b[38;5;124;03m    \"\"\"\u001b[39;00m\n\u001b[0;32m---> 53\u001b[0m     \u001b[38;5;28;01mreturn\u001b[39;00m \u001b[43mmatch\u001b[49m\u001b[43m(\u001b[49m\u001b[43mobj\u001b[49m\u001b[43m,\u001b[49m\u001b[43m \u001b[49m\u001b[43mimage_matchers\u001b[49m\u001b[43m)\u001b[49m\n",
      "File \u001b[0;32m~/miniconda3/envs/torch251/lib/python3.11/site-packages/filetype/match.py:30\u001b[0m, in \u001b[0;36mmatch\u001b[0;34m(obj, matchers)\u001b[0m\n\u001b[1;32m     16\u001b[0m \u001b[38;5;28;01mdef\u001b[39;00m\u001b[38;5;250m \u001b[39m\u001b[38;5;21mmatch\u001b[39m(obj, matchers\u001b[38;5;241m=\u001b[39mTYPES):\n\u001b[1;32m     17\u001b[0m \u001b[38;5;250m    \u001b[39m\u001b[38;5;124;03m\"\"\"\u001b[39;00m\n\u001b[1;32m     18\u001b[0m \u001b[38;5;124;03m    Matches the given input against the available\u001b[39;00m\n\u001b[1;32m     19\u001b[0m \u001b[38;5;124;03m    file type matchers.\u001b[39;00m\n\u001b[0;32m   (...)\u001b[0m\n\u001b[1;32m     28\u001b[0m \u001b[38;5;124;03m        TypeError: if obj is not a supported type.\u001b[39;00m\n\u001b[1;32m     29\u001b[0m \u001b[38;5;124;03m    \"\"\"\u001b[39;00m\n\u001b[0;32m---> 30\u001b[0m     buf \u001b[38;5;241m=\u001b[39m \u001b[43mget_bytes\u001b[49m\u001b[43m(\u001b[49m\u001b[43mobj\u001b[49m\u001b[43m)\u001b[49m\n\u001b[1;32m     32\u001b[0m     \u001b[38;5;28;01mfor\u001b[39;00m matcher \u001b[38;5;129;01min\u001b[39;00m matchers:\n\u001b[1;32m     33\u001b[0m         \u001b[38;5;28;01mif\u001b[39;00m matcher\u001b[38;5;241m.\u001b[39mmatch(buf):\n",
      "File \u001b[0;32m~/miniconda3/envs/torch251/lib/python3.11/site-packages/filetype/utils.py:64\u001b[0m, in \u001b[0;36mget_bytes\u001b[0;34m(obj)\u001b[0m\n\u001b[1;32m     61\u001b[0m     \u001b[38;5;28;01mreturn\u001b[39;00m signature(obj)\n\u001b[1;32m     63\u001b[0m \u001b[38;5;28;01mif\u001b[39;00m \u001b[38;5;28misinstance\u001b[39m(obj, \u001b[38;5;28mstr\u001b[39m):\n\u001b[0;32m---> 64\u001b[0m     \u001b[38;5;28;01mreturn\u001b[39;00m \u001b[43mget_signature_bytes\u001b[49m\u001b[43m(\u001b[49m\u001b[43mobj\u001b[49m\u001b[43m)\u001b[49m\n\u001b[1;32m     66\u001b[0m \u001b[38;5;28;01mif\u001b[39;00m \u001b[38;5;28misinstance\u001b[39m(obj, \u001b[38;5;28mbytes\u001b[39m):\n\u001b[1;32m     67\u001b[0m     \u001b[38;5;28;01mreturn\u001b[39;00m signature(obj)\n",
      "File \u001b[0;32m~/miniconda3/envs/torch251/lib/python3.11/site-packages/filetype/utils.py:24\u001b[0m, in \u001b[0;36mget_signature_bytes\u001b[0;34m(path)\u001b[0m\n\u001b[1;32m     13\u001b[0m \u001b[38;5;28;01mdef\u001b[39;00m\u001b[38;5;250m \u001b[39m\u001b[38;5;21mget_signature_bytes\u001b[39m(path):\n\u001b[1;32m     14\u001b[0m \u001b[38;5;250m    \u001b[39m\u001b[38;5;124;03m\"\"\"\u001b[39;00m\n\u001b[1;32m     15\u001b[0m \u001b[38;5;124;03m    Reads file from disk and returns the first 8192 bytes\u001b[39;00m\n\u001b[1;32m     16\u001b[0m \u001b[38;5;124;03m    of data representing the magic number header signature.\u001b[39;00m\n\u001b[0;32m   (...)\u001b[0m\n\u001b[1;32m     22\u001b[0m \u001b[38;5;124;03m        First 8192 bytes of the file content as bytearray type.\u001b[39;00m\n\u001b[1;32m     23\u001b[0m \u001b[38;5;124;03m    \"\"\"\u001b[39;00m\n\u001b[0;32m---> 24\u001b[0m     \u001b[38;5;28;01mwith\u001b[39;00m \u001b[38;5;28;43mopen\u001b[39;49m\u001b[43m(\u001b[49m\u001b[43mpath\u001b[49m\u001b[43m,\u001b[49m\u001b[43m \u001b[49m\u001b[38;5;124;43m'\u001b[39;49m\u001b[38;5;124;43mrb\u001b[39;49m\u001b[38;5;124;43m'\u001b[39;49m\u001b[43m)\u001b[49m \u001b[38;5;28;01mas\u001b[39;00m fp:\n\u001b[1;32m     25\u001b[0m         \u001b[38;5;28;01mreturn\u001b[39;00m \u001b[38;5;28mbytearray\u001b[39m(fp\u001b[38;5;241m.\u001b[39mread(_NUM_SIGNATURE_BYTES))\n",
      "\u001b[0;31mIsADirectoryError\u001b[0m: [Errno 21] Is a directory: '/media/yeok/OS/projects_data/papers-graph/data/2014-03-07'"
     ]
    }
   ],
   "source": [
    "import sys, glob\n",
    "sys.path.append('/home/yeok/projects/xtr-warp/marker')\n",
    "from marker.converters.pdf import PdfConverter\n",
    "from marker.models import create_model_dict\n",
    "from marker.output import text_from_rendered\n",
    "\n",
    "converter = PdfConverter(   \n",
    "    artifact_dict=create_model_dict(),\n",
    ")\n",
    "\n",
    "rendered = converter(\"/media/yeok/OS/projects_data/papers-graph/data/2014-03-07/\")\n",
    "text, _, images = text_from_rendered(rendered)"
   ]
  }
 ],
 "metadata": {
  "kernelspec": {
   "display_name": "torch251",
   "language": "python",
   "name": "python3"
  },
  "language_info": {
   "codemirror_mode": {
    "name": "ipython",
    "version": 3
   },
   "file_extension": ".py",
   "mimetype": "text/x-python",
   "name": "python",
   "nbconvert_exporter": "python",
   "pygments_lexer": "ipython3",
   "version": "3.11.11"
  }
 },
 "nbformat": 4,
 "nbformat_minor": 2
}
